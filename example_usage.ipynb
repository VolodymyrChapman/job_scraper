{
 "cells": [
  {
   "cell_type": "code",
   "execution_count": null,
   "metadata": {},
   "outputs": [],
   "source": [
    "from jobs_ac_uk import *\n",
    "import pandas as pd"
   ]
  },
  {
   "cell_type": "code",
   "execution_count": null,
   "metadata": {},
   "outputs": [],
   "source": [
    "# test job request\n",
    "jobs_ac_terms = ['computer', 'vision']\n",
    "df = results_over_pages(jobs_ac_terms)\n",
    "print('Number of results:', len(df))\n",
    "df.head()"
   ]
  },
  {
   "cell_type": "code",
   "execution_count": null,
   "metadata": {},
   "outputs": [],
   "source": [
    "# test filtering by specific terms\n",
    "technician_only = exclude_irrelevant(['job_title'], 'technician', df)\n",
    "print('Number of results:', len(technician_only))\n",
    "technician_only.head()"
   ]
  },
  {
   "cell_type": "code",
   "execution_count": null,
   "metadata": {},
   "outputs": [],
   "source": [
    "# test exclusion of specific terms i.e. location\n",
    "non_sheffield = exclude_specific(['Employer', 'Location'],'sheffield', df)\n",
    "print('Number of results:', len(non_sheffield))\n",
    "non_sheffield.head()"
   ]
  },
  {
   "cell_type": "code",
   "execution_count": null,
   "metadata": {},
   "outputs": [],
   "source": [
    "# test UK only\n",
    "uk_only = get_uk('Location',df)\n",
    "print('Number of results:', len(uk_only))\n",
    "uk_only.head()"
   ]
  },
  {
   "cell_type": "code",
   "execution_count": null,
   "metadata": {},
   "outputs": [],
   "source": [
    "# test filtering by country\n",
    "england_only = filter_by_country('Location', df, 'England')\n",
    "print('Number of results:', len(england_only))\n",
    "england_only.head()"
   ]
  }
 ],
 "metadata": {
  "kernelspec": {
   "display_name": "DataSci",
   "language": "python",
   "name": "python3"
  },
  "language_info": {
   "codemirror_mode": {
    "name": "ipython",
    "version": 3
   },
   "file_extension": ".py",
   "mimetype": "text/x-python",
   "name": "python",
   "nbconvert_exporter": "python",
   "pygments_lexer": "ipython3",
   "version": "3.9.16"
  },
  "orig_nbformat": 4
 },
 "nbformat": 4,
 "nbformat_minor": 2
}
